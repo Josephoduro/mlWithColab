{
  "nbformat": 4,
  "nbformat_minor": 0,
  "metadata": {
    "colab": {
      "provenance": [],
      "authorship_tag": "ABX9TyMzPOCCMrkV+6qstghFXLjZ",
      "include_colab_link": true
    },
    "kernelspec": {
      "name": "python3",
      "display_name": "Python 3"
    },
    "language_info": {
      "name": "python"
    }
  },
  "cells": [
    {
      "cell_type": "markdown",
      "metadata": {
        "id": "view-in-github",
        "colab_type": "text"
      },
      "source": [
        "<a href=\"https://colab.research.google.com/github/Josephoduro/mlWithColab/blob/main/binaryClassification.ipynb\" target=\"_parent\"><img src=\"https://colab.research.google.com/assets/colab-badge.svg\" alt=\"Open In Colab\"/></a>"
      ]
    },
    {
      "cell_type": "code",
      "execution_count": null,
      "metadata": {
        "id": "VhPpbYd0aXqT"
      },
      "outputs": [],
      "source": [
        "%tensorflow_version 2.x\n",
        "import tensorflow as tf\n",
        "from tensorflow import keras\n",
        "\n",
        "#we will be using pandas dataframes for loading external database\n",
        "#sklearn library for preprocessing the data and creating the training\n",
        "#validation datasets\n",
        "#matplotlib for charting\n",
        "#To use these libraries:\n",
        "# loading data\n",
        "import pandas as pd\n",
        "# scaling feature values\n",
        "from sklearn.preprocessing import StandardScaler\n",
        "#encoding target values\n",
        "from sklearn.preprocessing import LabelEncoder\n",
        "#shuffling data\n",
        "from sklearn.utils import shuffle\n",
        "#splitting the dataset into training and validation\n",
        "from sklearn.model_selection import train_test_split\n",
        "#plotting curves\n",
        "import matplotlib.pyplot as plt\n",
        "\n",
        "#Mounting Google Drive\n",
        "from google.colab import drive\n",
        "drive.mount('/content/drive')\n",
        "\n",
        "\n",
        "#loading data\n",
        "data_url = 'https://raw.githubusercontent.com/Apress/artificial-neural-networks-with-tensorflow-2/main/ch02/Churn_Modelling.csv'\n",
        "data = pd.read_csv(data_url)\n",
        "\n",
        "#shuffling data\n",
        "data = shuffle(data)\n",
        "\n",
        "#Data Preprocessing\n",
        "#i- Checking Nulls\n",
        "data.isnull().sum()\n",
        "\n",
        "#ii- selecting labels\n",
        "#dropping all unnecessary fields\n",
        "\n",
        "\n",
        "X = data.drop(labels= ['CustomerId', 'Surname', 'RowNumber', 'Exited'], axis = 1)\n",
        "\n",
        "#x now is a new array containing fields needed for the model, hence our\n",
        "#features\n",
        "\n",
        "#Extracting the output/label for our model. In this case it becomes Exited\n",
        "\n",
        "y = data['Exited']\n",
        "\n",
        "#Encoding Categorical Columns\n",
        "#check that the selected features contain categorical values\n",
        "#Gender from the data takes two categorical values, Male and female\n",
        "#Geography has threecategorical values, Germany, Spain and France.\n",
        "#We will need to convert these into numerical values before feeding\n",
        "#To the network\n",
        "\n",
        "from sklearn.preprocessing import LabelEncoder\n",
        "label = LabelEncoder()\n",
        "X['Geography'] = label.fit_transform(X['Geography'])\n",
        "X['Gender'] = label.fit_transform(X['Gender'])\n",
        "\n",
        "#Scaling Numerical Values\n",
        "#As the features in the real data can have a wide range of data values\n",
        "#machine learning would work better if we\n",
        "#standardized all these data ponts to the same scale\n",
        "#the mean of each column should be zero, and a standard deviation of 1 for better\n",
        "#results on machine learning. So we transform all our data points using the\n",
        "#equation z = (x - mu) / s\n",
        "# mu = mean and, s = standard deviation\n",
        "#we can perform this standardization by using StandardScaler\n",
        "\n",
        "from sklearn.preprocessing import StandardScaler\n",
        "\n",
        "scaler = StandardScaler()\n",
        "X = scaler.fit_transform(X)\n",
        "\n",
        "#Creating Training and Testing\n",
        "#We split the data into testing and training sets\n",
        "#To do so we use the train_test_split method of sklearn as in the following\n",
        "#Split dataset into training and testing\n",
        "from sklearn.model_selection import train_test_split\n",
        "X_train, X_test, y_train, y_test = train_test_split(X,y, test_size = 0.3)\n",
        "\n",
        "#Before we knock some boots of, let's clear the air about a few things.\n",
        "#Training dataset - The part of the data that is used for model fitting.\n",
        "#Validation dataset - The part of data used for tuning hyperparameters\n",
        "#during training.\n",
        "#Test dataset - The part of data used for evaluating a model's performance\n",
        "#after it's training\n",
        "\n",
        "\n",
        "#Defining ANN\n",
        "#After preprocessing, we have 11 features in our dataset. The number of features\n",
        "#is determined by computing the shape of the training dataset with the following\n",
        "#statement\n",
        "#X_train.shape[1]\n",
        "\n",
        "#For our case, the expected output of the network is a binary value indicating\n",
        "#the likelihood of the customer leaving the bank. The target values are specified\n",
        "#y_train vector\n",
        "\n",
        "#we will create a four-layer deep learning network model. In the first layer,\n",
        "#we will use 128 nodes, the second 64, the third 32 and fourth single output node.\n",
        "\n",
        "#we create the network by using tf.keras API, which is a new standard in TensorFlow\n",
        "#we will use the sequential API to create a linear stack of layers. You instantiate\n",
        "#the model using the following statement:\n",
        "\n",
        "model = keras.models.Sequential()\n",
        "\n",
        "#creating the first layer\n",
        "#We add the first layer to the stack consisting of 128 nodes using\n",
        "#the following statement\n",
        "\n",
        "model.add(keras.layers.Dense(128, activation = 'relu',\n",
        "                             input_dim = X_train.shape[1]))\n",
        "\n",
        "#The input dimension to this layer is set in the parameter input_dim,\n",
        "#which is the number of features defined by the shape of X_train vector\n",
        "#we use ReLU(rectified linear unit) as activation function.\n",
        "#The activation function is used in deciding whether the node is to be\n",
        "#activated depending on its weighted sum. ReLU is the most widely used activation\n",
        "#function that outputs 0 for negative inputs and 1 otherwise.\n",
        "\n",
        "#likewise, you add the second layer to the network using the following:\n",
        "\n",
        "model.add(keras.layers.Dense(64, activation = 'relu'))\n",
        "\n",
        "#The input to this layer comes from the previous layer so there is\n",
        "#no need to specify the dimensions of the input vector.\n",
        "#The third layer is added:\n",
        "\n",
        "model.add(keras.layers.Dense(32, activation = 'relu'))\n",
        "\n",
        "#The last layer is added\n",
        "\n",
        "model.add(keras.layers.Dense(1, activation = 'sigmoid'))\n",
        "\n",
        "#We use the sigmoid as the activation function here as  this layer is\n",
        "#outputting a binary value. A sigmoid function is a type of activation\n",
        "#function and is also known as a Squashing function. It limits the output\n",
        "#to a range between 0 and 1, making it suitable in predicting probabilities\n",
        "\n",
        "#We print the network summary using\n",
        "\n",
        "#model.summary()\n",
        "\n",
        "#COMPILING MODEL\n",
        "#To compile the model, we call the model's compile method:\n",
        "\n",
        "model.compile(loss = 'binary_crossentropy',\n",
        "              optimizer = 'adam', metrics = ['accuracy'])\n",
        "\n",
        "#The binary_crossentropy is used as our loss function\n",
        "#since we are developing a binary classifier model\n",
        "#We use Adam optimizer while training the model as this is suited\n",
        "#best in such situations.\n",
        "#The accuracy metrics are collected for analysis by specifying the value for\n",
        "#metrics parameter.\n",
        "\n",
        "#We will define a callback function which will be called\n",
        "#at each epoch during training. We will be collecting logs in the\n",
        "#log folder. To cleat earlier log, we use the following action:\n",
        "#!rm -rf ./log/\n",
        "\n",
        "#we define the callback funtion using the following code snippet:\n",
        "\n",
        "#tensorboard visualization\n",
        "import datetime, os\n",
        "logdir = os.path.join(\"log\",\n",
        "                      datetime.datetime.now().\n",
        "                      strftime(\"%Y%m%d-%H%M%S\"))\n",
        "tensorboard_callback = tf.keras.callbacks.TensorBoard(logdir,\n",
        "                                                      histogram_freq = 1)\n",
        "\n",
        "#With this setup for training analysis and the compilation of the\n",
        "#model, we are now ready to start the training.\n",
        "\n",
        "#MODEL TRAINING\n",
        "#To train the model, we use the fit method on the model instance:\n",
        "\n",
        "r = model.fit(X_train, y_train, batch_size= 32, epochs= 50, validation_data= (X_test, y_test),\n",
        "              callbacks = [tensorboard_callback])\n",
        "\n",
        "#The first parameter to the fit function defines the features vector,\n",
        "#and the second defines the labels. The batch_size parameter defines the\n",
        "#batch_size for training. The epochs parameter determines how many iterations\n",
        "#would be performed. The test data that we generated during data preprocessing\n",
        "#is used for model validation and is passed to fit function in the validation_data\n",
        "#The callbacks function specify which callback function would be called at the\n",
        "#end of each iteration\n",
        "\n",
        "\n",
        "#Once the training is over, we can use the collected metrics to evaluate\n",
        "#if the model is trained using the desired accuracy\n",
        "\n"
      ]
    },
    {
      "cell_type": "code",
      "source": [
        "#PERFORMANCE EVALUATION\n",
        "#To evaluate the performance, we will launch the tensorboard in our colab\n",
        "#environment using the %tensorboard magic. Before this, we will load the\n",
        "#tensorboard using %load_ext magic.\n",
        "\n",
        "%load_ext tensorboard\n",
        "%tensorboard --logdir log #command to launch tensorboard on colab\n",
        "\n",
        "#running this shows the TensorBoard, and you will see the accuracy and loss\n",
        "#metrics plotted on the screen. The two curves shown here are plotted on\n",
        "#the training and validation data. The examination of the accuracy and loss\n",
        "#metrics help us in determining if the model is performing well"
      ],
      "metadata": {
        "id": "0k2lzL1fBSC_"
      },
      "execution_count": null,
      "outputs": []
    },
    {
      "cell_type": "code",
      "source": [
        "#The program statement for evaluating the model and its output is shown:\n",
        "test_scores = model.evaluate(X_test, y_test)\n",
        "print('Test Loss: ', test_scores[0])\n",
        "print('Test accuracy: ', test_scores[1]*100)"
      ],
      "metadata": {
        "id": "Dhxi7MQjC689"
      },
      "execution_count": null,
      "outputs": []
    },
    {
      "cell_type": "code",
      "source": [
        "from ast import increment_lineno\n",
        "#Plotting the performance charts on the validation data using the matplotlib\n",
        "#The traditional way of performance evaluation\n",
        "\n",
        "%matplotlib inline\n",
        "import matplotlib.pyplot as plt #for plotting curves\n",
        "\n",
        "plt.plot(r.history['val_accuracy'], label= 'val_acc')\n",
        "plt.plot(r.history['val_loss'], label= 'val_loss')\n",
        "plt.legend()\n",
        "plt.show()"
      ],
      "metadata": {
        "id": "T-qwxM9HDuzy"
      },
      "execution_count": null,
      "outputs": []
    },
    {
      "cell_type": "code",
      "source": [
        "import numpy as np\n",
        "#PREDICTING ON TEST DATA\n",
        "#The confusion matrix quite is used to evaluate the performance\n",
        "#of our network. It requires both the predictions and the True labels\n",
        "#Thus, we first need to generate predictions on our test data. For\n",
        "#predicting, use predict_classes method as shown:\n",
        "\n",
        "predictions = model.predict(X_test)\n",
        "\n",
        "y_pred = np.argmax(predictions, axis=1)\n",
        "\n",
        "#The method takes the features vector as its argument and returns a tensor of\n",
        "#predictions. it could be printed using\n",
        "\n",
        "y_pred"
      ],
      "metadata": {
        "colab": {
          "base_uri": "https://localhost:8080/"
        },
        "id": "g_93Y939E6XX",
        "outputId": "2c98c69f-c978-4f88-c2c6-3f4b6ea16a5d"
      },
      "execution_count": 24,
      "outputs": [
        {
          "output_type": "stream",
          "name": "stdout",
          "text": [
            "94/94 [==============================] - 0s 2ms/step\n"
          ]
        },
        {
          "output_type": "execute_result",
          "data": {
            "text/plain": [
              "array([0, 0, 0, ..., 0, 0, 0])"
            ]
          },
          "metadata": {},
          "execution_count": 24
        }
      ]
    },
    {
      "cell_type": "code",
      "source": [
        "#The value of 1 at any index represents the customer leaves while means the customer\n",
        "#stays\n",
        "\n",
        "#We will use these prediction results to create and plot a confusion matrix that\n",
        "#provides a better visualization of the model's performance.\n",
        "\n",
        "\n",
        "#CONFUSION MATRIX\n",
        "#To generate the confusion matrix, you use the sklearn's built in function\n",
        "#as shown here:\n",
        "\n",
        "import matplotlib.pyplot as plt\n",
        "from sklearn.metrics import confusion_matrix\n",
        "import seaborn as sns\n",
        "\n",
        "cf = confusion_matrix(y_test, y_pred)\n",
        "cf\n",
        "\n",
        "#this gives an array which can be used in creating a visual effect using the follow:\n",
        "\n",
        "from mlxtend.plotting import plot_confusion_matrix\n",
        "sns.heatmap(cf, annot=True, fmt='d', cmap='viridis')\n",
        "\n",
        "plt.show()"
      ],
      "metadata": {
        "id": "rEa832iYK2Pi"
      },
      "execution_count": null,
      "outputs": []
    },
    {
      "cell_type": "code",
      "source": [
        "#The accuracy score can be calculated as\n",
        "\n",
        "from sklearn.metrics import accuracy_score\n",
        "accuracy_score(y_test, y_pred)\n",
        "\n",
        "#The execution of this statement gives an accuracy of 80% which is largely\n",
        "#accepted accuracy in machine learning. We now use the model on unseen data.\n",
        "\n"
      ],
      "metadata": {
        "colab": {
          "base_uri": "https://localhost:8080/"
        },
        "id": "vW-VyuvJPZu3",
        "outputId": "d4577e9c-4fd1-4d6e-9fe2-ded3025d6600"
      },
      "execution_count": 26,
      "outputs": [
        {
          "output_type": "execute_result",
          "data": {
            "text/plain": [
              "0.8"
            ]
          },
          "metadata": {},
          "execution_count": 26
        }
      ]
    },
    {
      "cell_type": "code",
      "source": [
        "#PREDICTING ON UNSEEN DATA\n",
        "#To create an unseen data for our use case, we need to know the data types of all\n",
        "#features to which we will assign dummy values\n",
        "\n",
        "#For our unseen data, we will use the following values:\n",
        "#CreditScore = 615\n",
        "#Gender = Male\n",
        "#Age = 22\n",
        "#Tenure = m5\n",
        "#Balamce = 20000\n",
        "#NUmOfProducts = 1\n",
        "#HasCrCard = 1\n",
        "#IsActiveMember = 1\n",
        "#EstimatedSalary = 60000\n",
        "#Geography = Spain\n",
        "\n",
        "customer = model.predict([[615, 22, 5, 20000, 5, 1, 1, 60000, 0, 0]])\n",
        "\n",
        "customer\n",
        "\n",
        "if customer[0] == 1:\n",
        "  print(\"Customer is likely to leave\")\n",
        "else:\n",
        "  print(\"Customer will stay\")"
      ],
      "metadata": {
        "colab": {
          "base_uri": "https://localhost:8080/"
        },
        "id": "URdlWg4HQv6y",
        "outputId": "8c70ac95-c1b6-4f11-9d77-07869aa43337"
      },
      "execution_count": 32,
      "outputs": [
        {
          "output_type": "stream",
          "name": "stdout",
          "text": [
            "1/1 [==============================] - 0s 336ms/step\n",
            "Customer will stay\n"
          ]
        }
      ]
    }
  ]
}